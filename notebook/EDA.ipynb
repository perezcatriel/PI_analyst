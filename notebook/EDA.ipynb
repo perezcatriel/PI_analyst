import pandas_datareader.data as web
import pandas as pd
import matplotlib.pyplot as plt
import seaborn as sns

# Obtener los datos de todas las empresas del S&P 500
# sp500 = web.DataReader('^GSPC', 'yahoo')

# Importar el archivo CSV que contiene la información de los sectores
sectors = pd.read_csv('https://datahub.io/core/s-and-p-500-companies-financials/r/constituents-financials.csv')
sectors

# Crear un diccionario que mapea cada símbolo a su respectivo sector
# symbol_sector_map = {}
# for index, row in sectors.iterrows():
#     symbol_sector_map[row['Symbol']] = row['Sector']

# Añadir la columna 'Sector' al DataFrame de SP500
# sp500['Sector'] = [symbol_sector_map.get(symbol, 'Unknown') for symbol in sp500.index.get_level_values(1)]

# Agrupar los precios por sector y calcular la media
# sector_prices = sp500.groupby('Sector')['Adj Close'].mean().unstack()

# Crear el heatmap con seaborn
# plt.figure(figsize=(10, 8))
# sns.heatmap(sector_prices, cmap='coolwarm', annot=True, fmt='.2f')
# plt.title('Precios promedio del S&P 500 por sector')
# plt.xlabel('Empresa')
# plt.ylabel('Sector')
# plt.show()

# Obtener los datos de todas las empresas del S&P 500
sp500 = web.DataReader('^GSPC', 'yahoo')

# Importar el archivo CSV que contiene la información de los sectores
sectors = pd.read_csv('https://datahub.io/core/s-and-p-500-companies-financials/r/constituents-financials.csv')

# Crear un diccionario que mapea cada símbolo a su respectivo sector
symbol_sector_map = {}
for index, row in sectors.iterrows():
    symbol_sector_map[row['Symbol']] = row['Sector']

# Añadir la columna 'Sector' al DataFrame de SP500
sp500['Sector'] = [symbol_sector_map.get(symbol, 'Unknown') for symbol in sp500.index.get_level_values(1)]

# Crear una tabla pivote con el precio de cierre ajustado promedio por sector y fecha
pivot = pd.pivot_table(sp500, values='Adj Close', index='Sector', columns='Date', aggfunc='mean')

# Mostrar un heatmap de la tabla pivote
sns.heatmap(pivot)

# Agrupar las empresas por sector y contar cuántas hay en cada uno
sector_counts = sectors.groupby('Sector')['Symbol'].count()

# Crear un DataFrame con los conteos de empresas por sector
sector_df = pd.DataFrame({'Sector': sector_counts.index, 'Count': sector_counts.values})

# Crear una tabla pivote con las empresas como índices y los sectores como columnas
sector_pivot = sectors.pivot(index='Symbol', columns='Sector', values='Name')

# Crear un heatmap con los datos de la tabla pivote
sns.set_style('whitegrid')
fig, ax = plt.subplots(figsize=(10, 12))
sns.heatmap(sector_pivot.isna(), cmap='Blues', cbar=False, ax=ax)
plt.title('Empresas del S&P 500 por sector')
plt.xlabel('Sector')
plt.ylabel('Empresa')
plt.show()


import pandas as pd
import yfinance as yf

# Definir el rango de fechas
start_date = "1990-01-01"
end_date = "2022-03-25"

# Descargar los datos del índice S&P 500
# sp500 = yf.download("^GSPC", start=start_date, end=end_date)

sp500_ticker = yf.Ticker("^GSPC")

sp500_data = sp500_ticker.history(start=start_date, end=end_date, interval="1d")


# Guardar los datos en un archivo CSV
# sp500.to_csv("sp500_historical_data.csv")

sp500_data.to_csv("sp500_data.csv")

